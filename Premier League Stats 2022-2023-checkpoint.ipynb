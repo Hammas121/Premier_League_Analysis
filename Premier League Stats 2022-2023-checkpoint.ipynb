{
 "cells": [
  {
   "cell_type": "code",
   "execution_count": 1,
   "id": "cfa0aaf8",
   "metadata": {},
   "outputs": [],
   "source": [
    "import pandas as pd\n",
    "import numpy as np\n",
    "import matplotlib.pyplot as plt\n",
    "import seaborn as sns\n",
    "import os\n",
    "import pandas_profiling as pp"
   ]
  },
  {
   "cell_type": "code",
   "execution_count": 2,
   "id": "8c1519fd",
   "metadata": {},
   "outputs": [],
   "source": [
    "df = pd.read_csv('Premier_League.csv')"
   ]
  },
  {
   "cell_type": "code",
   "execution_count": 3,
   "id": "8f0b15ac",
   "metadata": {},
   "outputs": [
    {
     "data": {
      "text/plain": [
       "date                0\n",
       "clock               0\n",
       "stadium             0\n",
       "attendance          0\n",
       "Home Team           0\n",
       "Goals Home          0\n",
       "Away Team           0\n",
       "Away Goals          0\n",
       "home_possessions    0\n",
       "away_possessions    0\n",
       "home_shots          0\n",
       "away_shots          0\n",
       "home_on             0\n",
       "away_on             0\n",
       "home_off            0\n",
       "away_off            0\n",
       "home_blocked        0\n",
       "away_blocked        0\n",
       "home_pass           0\n",
       "away_pass           0\n",
       "home_chances        0\n",
       "away_chances        0\n",
       "home_corners        0\n",
       "away_corners        0\n",
       "home_offside        0\n",
       "away_offside        0\n",
       "home_tackles        0\n",
       "away_tackles        0\n",
       "home_duels          0\n",
       "away_duels          0\n",
       "home_saves          0\n",
       "away_saves          0\n",
       "home_fouls          0\n",
       "away_fouls          0\n",
       "home_yellow         0\n",
       "away_yellow         0\n",
       "home_red            0\n",
       "away_red            0\n",
       "links               0\n",
       "dtype: int64"
      ]
     },
     "execution_count": 3,
     "metadata": {},
     "output_type": "execute_result"
    }
   ],
   "source": [
    "df.isnull().sum()"
   ]
  },
  {
   "cell_type": "code",
   "execution_count": 4,
   "id": "68a37a80",
   "metadata": {},
   "outputs": [
    {
     "data": {
      "text/html": [
       "<div>\n",
       "<style scoped>\n",
       "    .dataframe tbody tr th:only-of-type {\n",
       "        vertical-align: middle;\n",
       "    }\n",
       "\n",
       "    .dataframe tbody tr th {\n",
       "        vertical-align: top;\n",
       "    }\n",
       "\n",
       "    .dataframe thead th {\n",
       "        text-align: right;\n",
       "    }\n",
       "</style>\n",
       "<table border=\"1\" class=\"dataframe\">\n",
       "  <thead>\n",
       "    <tr style=\"text-align: right;\">\n",
       "      <th></th>\n",
       "      <th>date</th>\n",
       "      <th>clock</th>\n",
       "      <th>stadium</th>\n",
       "      <th>attendance</th>\n",
       "      <th>Home Team</th>\n",
       "      <th>Goals Home</th>\n",
       "      <th>Away Team</th>\n",
       "      <th>Away Goals</th>\n",
       "      <th>home_possessions</th>\n",
       "      <th>away_possessions</th>\n",
       "      <th>...</th>\n",
       "      <th>away_duels</th>\n",
       "      <th>home_saves</th>\n",
       "      <th>away_saves</th>\n",
       "      <th>home_fouls</th>\n",
       "      <th>away_fouls</th>\n",
       "      <th>home_yellow</th>\n",
       "      <th>away_yellow</th>\n",
       "      <th>home_red</th>\n",
       "      <th>away_red</th>\n",
       "      <th>links</th>\n",
       "    </tr>\n",
       "  </thead>\n",
       "  <tbody>\n",
       "    <tr>\n",
       "      <th>0</th>\n",
       "      <td>28th May 2023</td>\n",
       "      <td>4:30pm</td>\n",
       "      <td>Emirates Stadium</td>\n",
       "      <td>60,095</td>\n",
       "      <td>Arsenal</td>\n",
       "      <td>5</td>\n",
       "      <td>Wolverhampton Wanderers</td>\n",
       "      <td>0</td>\n",
       "      <td>51.0</td>\n",
       "      <td>49.0</td>\n",
       "      <td>...</td>\n",
       "      <td>52.2</td>\n",
       "      <td>0</td>\n",
       "      <td>3</td>\n",
       "      <td>8</td>\n",
       "      <td>11</td>\n",
       "      <td>0</td>\n",
       "      <td>0</td>\n",
       "      <td>0</td>\n",
       "      <td>0</td>\n",
       "      <td>https://www.skysports.com/football/arsenal-vs-...</td>\n",
       "    </tr>\n",
       "    <tr>\n",
       "      <th>1</th>\n",
       "      <td>28th May 2023</td>\n",
       "      <td>4:30pm</td>\n",
       "      <td>Villa Park</td>\n",
       "      <td>42,212</td>\n",
       "      <td>Aston Villa</td>\n",
       "      <td>2</td>\n",
       "      <td>Brighton and Hove Albion</td>\n",
       "      <td>1</td>\n",
       "      <td>40.3</td>\n",
       "      <td>59.7</td>\n",
       "      <td>...</td>\n",
       "      <td>47.8</td>\n",
       "      <td>3</td>\n",
       "      <td>3</td>\n",
       "      <td>15</td>\n",
       "      <td>16</td>\n",
       "      <td>4</td>\n",
       "      <td>4</td>\n",
       "      <td>0</td>\n",
       "      <td>0</td>\n",
       "      <td>https://www.skysports.com/football/aston-villa...</td>\n",
       "    </tr>\n",
       "    <tr>\n",
       "      <th>2</th>\n",
       "      <td>28th May 2023</td>\n",
       "      <td>4:30pm</td>\n",
       "      <td>Gtech Community Stadium</td>\n",
       "      <td>17,120</td>\n",
       "      <td>Brentford</td>\n",
       "      <td>1</td>\n",
       "      <td>Manchester City</td>\n",
       "      <td>0</td>\n",
       "      <td>34.4</td>\n",
       "      <td>65.6</td>\n",
       "      <td>...</td>\n",
       "      <td>50.0</td>\n",
       "      <td>2</td>\n",
       "      <td>3</td>\n",
       "      <td>12</td>\n",
       "      <td>8</td>\n",
       "      <td>4</td>\n",
       "      <td>0</td>\n",
       "      <td>0</td>\n",
       "      <td>0</td>\n",
       "      <td>https://www.skysports.com/football/brentford-v...</td>\n",
       "    </tr>\n",
       "    <tr>\n",
       "      <th>3</th>\n",
       "      <td>28th May 2023</td>\n",
       "      <td>4:30pm</td>\n",
       "      <td>Stamford Bridge</td>\n",
       "      <td>40,130</td>\n",
       "      <td>Chelsea</td>\n",
       "      <td>1</td>\n",
       "      <td>Newcastle United</td>\n",
       "      <td>1</td>\n",
       "      <td>64.4</td>\n",
       "      <td>35.6</td>\n",
       "      <td>...</td>\n",
       "      <td>45.5</td>\n",
       "      <td>3</td>\n",
       "      <td>5</td>\n",
       "      <td>9</td>\n",
       "      <td>11</td>\n",
       "      <td>0</td>\n",
       "      <td>0</td>\n",
       "      <td>0</td>\n",
       "      <td>0</td>\n",
       "      <td>https://www.skysports.com/football/chelsea-vs-...</td>\n",
       "    </tr>\n",
       "    <tr>\n",
       "      <th>4</th>\n",
       "      <td>28th May 2023</td>\n",
       "      <td>4:30pm</td>\n",
       "      <td>Selhurst Park</td>\n",
       "      <td>25,198</td>\n",
       "      <td>Crystal Palace</td>\n",
       "      <td>1</td>\n",
       "      <td>Nottingham Forest</td>\n",
       "      <td>1</td>\n",
       "      <td>66.0</td>\n",
       "      <td>34.0</td>\n",
       "      <td>...</td>\n",
       "      <td>41.7</td>\n",
       "      <td>3</td>\n",
       "      <td>2</td>\n",
       "      <td>9</td>\n",
       "      <td>13</td>\n",
       "      <td>0</td>\n",
       "      <td>2</td>\n",
       "      <td>0</td>\n",
       "      <td>0</td>\n",
       "      <td>https://www.skysports.com/football/crystal-pal...</td>\n",
       "    </tr>\n",
       "    <tr>\n",
       "      <th>...</th>\n",
       "      <td>...</td>\n",
       "      <td>...</td>\n",
       "      <td>...</td>\n",
       "      <td>...</td>\n",
       "      <td>...</td>\n",
       "      <td>...</td>\n",
       "      <td>...</td>\n",
       "      <td>...</td>\n",
       "      <td>...</td>\n",
       "      <td>...</td>\n",
       "      <td>...</td>\n",
       "      <td>...</td>\n",
       "      <td>...</td>\n",
       "      <td>...</td>\n",
       "      <td>...</td>\n",
       "      <td>...</td>\n",
       "      <td>...</td>\n",
       "      <td>...</td>\n",
       "      <td>...</td>\n",
       "      <td>...</td>\n",
       "      <td>...</td>\n",
       "    </tr>\n",
       "    <tr>\n",
       "      <th>375</th>\n",
       "      <td>6th August 2022</td>\n",
       "      <td>3:00pm</td>\n",
       "      <td>Elland Road</td>\n",
       "      <td>36,347</td>\n",
       "      <td>Leeds United</td>\n",
       "      <td>2</td>\n",
       "      <td>Wolverhampton Wanderers</td>\n",
       "      <td>1</td>\n",
       "      <td>40.1</td>\n",
       "      <td>59.9</td>\n",
       "      <td>...</td>\n",
       "      <td>43.8</td>\n",
       "      <td>5</td>\n",
       "      <td>3</td>\n",
       "      <td>13</td>\n",
       "      <td>9</td>\n",
       "      <td>2</td>\n",
       "      <td>0</td>\n",
       "      <td>0</td>\n",
       "      <td>0</td>\n",
       "      <td>https://www.skysports.com/football/leeds-unite...</td>\n",
       "    </tr>\n",
       "    <tr>\n",
       "      <th>376</th>\n",
       "      <td>6th August 2022</td>\n",
       "      <td>3:00pm</td>\n",
       "      <td>St James' Park, Newcastle</td>\n",
       "      <td>52,245</td>\n",
       "      <td>Newcastle United</td>\n",
       "      <td>2</td>\n",
       "      <td>Nottingham Forest</td>\n",
       "      <td>0</td>\n",
       "      <td>61.4</td>\n",
       "      <td>38.6</td>\n",
       "      <td>...</td>\n",
       "      <td>57.1</td>\n",
       "      <td>0</td>\n",
       "      <td>7</td>\n",
       "      <td>9</td>\n",
       "      <td>14</td>\n",
       "      <td>0</td>\n",
       "      <td>3</td>\n",
       "      <td>0</td>\n",
       "      <td>0</td>\n",
       "      <td>https://www.skysports.com/football/newcastle-u...</td>\n",
       "    </tr>\n",
       "    <tr>\n",
       "      <th>377</th>\n",
       "      <td>6th August 2022</td>\n",
       "      <td>3:00pm</td>\n",
       "      <td>Tottenham Hotspur Stadium</td>\n",
       "      <td>61,732</td>\n",
       "      <td>Tottenham Hotspur</td>\n",
       "      <td>4</td>\n",
       "      <td>Southampton</td>\n",
       "      <td>1</td>\n",
       "      <td>57.5</td>\n",
       "      <td>42.5</td>\n",
       "      <td>...</td>\n",
       "      <td>45.8</td>\n",
       "      <td>1</td>\n",
       "      <td>5</td>\n",
       "      <td>11</td>\n",
       "      <td>6</td>\n",
       "      <td>3</td>\n",
       "      <td>0</td>\n",
       "      <td>0</td>\n",
       "      <td>0</td>\n",
       "      <td>https://www.skysports.com/football/tottenham-h...</td>\n",
       "    </tr>\n",
       "    <tr>\n",
       "      <th>378</th>\n",
       "      <td>6th August 2022</td>\n",
       "      <td>5:30pm</td>\n",
       "      <td>Goodison Park</td>\n",
       "      <td>39,254</td>\n",
       "      <td>Everton</td>\n",
       "      <td>0</td>\n",
       "      <td>Chelsea</td>\n",
       "      <td>1</td>\n",
       "      <td>37.3</td>\n",
       "      <td>62.7</td>\n",
       "      <td>...</td>\n",
       "      <td>64.7</td>\n",
       "      <td>5</td>\n",
       "      <td>3</td>\n",
       "      <td>14</td>\n",
       "      <td>11</td>\n",
       "      <td>3</td>\n",
       "      <td>2</td>\n",
       "      <td>0</td>\n",
       "      <td>0</td>\n",
       "      <td>https://www.skysports.com/football/everton-vs-...</td>\n",
       "    </tr>\n",
       "    <tr>\n",
       "      <th>379</th>\n",
       "      <td>5th August 2022</td>\n",
       "      <td>8:00pm</td>\n",
       "      <td>Selhurst Park</td>\n",
       "      <td>25,286</td>\n",
       "      <td>Crystal Palace</td>\n",
       "      <td>0</td>\n",
       "      <td>Arsenal</td>\n",
       "      <td>2</td>\n",
       "      <td>56.3</td>\n",
       "      <td>43.7</td>\n",
       "      <td>...</td>\n",
       "      <td>58.3</td>\n",
       "      <td>1</td>\n",
       "      <td>2</td>\n",
       "      <td>16</td>\n",
       "      <td>11</td>\n",
       "      <td>1</td>\n",
       "      <td>2</td>\n",
       "      <td>0</td>\n",
       "      <td>0</td>\n",
       "      <td>https://www.skysports.com/football/crystal-pal...</td>\n",
       "    </tr>\n",
       "  </tbody>\n",
       "</table>\n",
       "<p>380 rows × 39 columns</p>\n",
       "</div>"
      ],
      "text/plain": [
       "                date   clock                    stadium attendance  \\\n",
       "0      28th May 2023  4:30pm           Emirates Stadium     60,095   \n",
       "1      28th May 2023  4:30pm                 Villa Park     42,212   \n",
       "2      28th May 2023  4:30pm    Gtech Community Stadium     17,120   \n",
       "3      28th May 2023  4:30pm            Stamford Bridge     40,130   \n",
       "4      28th May 2023  4:30pm              Selhurst Park     25,198   \n",
       "..               ...     ...                        ...        ...   \n",
       "375  6th August 2022  3:00pm                Elland Road     36,347   \n",
       "376  6th August 2022  3:00pm  St James' Park, Newcastle     52,245   \n",
       "377  6th August 2022  3:00pm  Tottenham Hotspur Stadium     61,732   \n",
       "378  6th August 2022  5:30pm              Goodison Park     39,254   \n",
       "379  5th August 2022  8:00pm              Selhurst Park     25,286   \n",
       "\n",
       "             Home Team  Goals Home                 Away Team  Away Goals  \\\n",
       "0              Arsenal           5   Wolverhampton Wanderers           0   \n",
       "1          Aston Villa           2  Brighton and Hove Albion           1   \n",
       "2            Brentford           1           Manchester City           0   \n",
       "3              Chelsea           1          Newcastle United           1   \n",
       "4       Crystal Palace           1         Nottingham Forest           1   \n",
       "..                 ...         ...                       ...         ...   \n",
       "375       Leeds United           2   Wolverhampton Wanderers           1   \n",
       "376   Newcastle United           2         Nottingham Forest           0   \n",
       "377  Tottenham Hotspur           4               Southampton           1   \n",
       "378            Everton           0                   Chelsea           1   \n",
       "379     Crystal Palace           0                   Arsenal           2   \n",
       "\n",
       "     home_possessions  away_possessions  ...  away_duels  home_saves  \\\n",
       "0                51.0              49.0  ...        52.2           0   \n",
       "1                40.3              59.7  ...        47.8           3   \n",
       "2                34.4              65.6  ...        50.0           2   \n",
       "3                64.4              35.6  ...        45.5           3   \n",
       "4                66.0              34.0  ...        41.7           3   \n",
       "..                ...               ...  ...         ...         ...   \n",
       "375              40.1              59.9  ...        43.8           5   \n",
       "376              61.4              38.6  ...        57.1           0   \n",
       "377              57.5              42.5  ...        45.8           1   \n",
       "378              37.3              62.7  ...        64.7           5   \n",
       "379              56.3              43.7  ...        58.3           1   \n",
       "\n",
       "     away_saves  home_fouls  away_fouls  home_yellow  away_yellow  home_red  \\\n",
       "0             3           8          11            0            0         0   \n",
       "1             3          15          16            4            4         0   \n",
       "2             3          12           8            4            0         0   \n",
       "3             5           9          11            0            0         0   \n",
       "4             2           9          13            0            2         0   \n",
       "..          ...         ...         ...          ...          ...       ...   \n",
       "375           3          13           9            2            0         0   \n",
       "376           7           9          14            0            3         0   \n",
       "377           5          11           6            3            0         0   \n",
       "378           3          14          11            3            2         0   \n",
       "379           2          16          11            1            2         0   \n",
       "\n",
       "     away_red                                              links  \n",
       "0           0  https://www.skysports.com/football/arsenal-vs-...  \n",
       "1           0  https://www.skysports.com/football/aston-villa...  \n",
       "2           0  https://www.skysports.com/football/brentford-v...  \n",
       "3           0  https://www.skysports.com/football/chelsea-vs-...  \n",
       "4           0  https://www.skysports.com/football/crystal-pal...  \n",
       "..        ...                                                ...  \n",
       "375         0  https://www.skysports.com/football/leeds-unite...  \n",
       "376         0  https://www.skysports.com/football/newcastle-u...  \n",
       "377         0  https://www.skysports.com/football/tottenham-h...  \n",
       "378         0  https://www.skysports.com/football/everton-vs-...  \n",
       "379         0  https://www.skysports.com/football/crystal-pal...  \n",
       "\n",
       "[380 rows x 39 columns]"
      ]
     },
     "execution_count": 4,
     "metadata": {},
     "output_type": "execute_result"
    }
   ],
   "source": [
    "df"
   ]
  },
  {
   "cell_type": "code",
   "execution_count": 5,
   "id": "55d62c4c",
   "metadata": {},
   "outputs": [
    {
     "data": {
      "text/plain": [
       "Index(['date', 'clock', 'stadium', 'attendance', 'Home Team', 'Goals Home',\n",
       "       'Away Team', 'Away Goals', 'home_possessions', 'away_possessions',\n",
       "       'home_shots', 'away_shots', 'home_on', 'away_on', 'home_off',\n",
       "       'away_off', 'home_blocked', 'away_blocked', 'home_pass', 'away_pass',\n",
       "       'home_chances', 'away_chances', 'home_corners', 'away_corners',\n",
       "       'home_offside', 'away_offside', 'home_tackles', 'away_tackles',\n",
       "       'home_duels', 'away_duels', 'home_saves', 'away_saves', 'home_fouls',\n",
       "       'away_fouls', 'home_yellow', 'away_yellow', 'home_red', 'away_red',\n",
       "       'links'],\n",
       "      dtype='object')"
      ]
     },
     "execution_count": 5,
     "metadata": {},
     "output_type": "execute_result"
    }
   ],
   "source": [
    "df.columns"
   ]
  },
  {
   "cell_type": "code",
   "execution_count": 6,
   "id": "b06a1cce",
   "metadata": {},
   "outputs": [
    {
     "data": {
      "text/plain": [
       "array(['Emirates Stadium', 'Villa Park', 'Gtech Community Stadium',\n",
       "       'Stamford Bridge', 'Selhurst Park', 'Goodison Park', 'Elland Road',\n",
       "       'The King Power Stadium', 'Old Trafford', \"St. Mary's Stadium\",\n",
       "       'Amex Stadium', \"St James' Park, Newcastle\", 'London Stadium',\n",
       "       'Etihad Stadium', 'Tottenham Hotspur Stadium', 'Vitality Stadium',\n",
       "       'Craven Cottage', 'Anfield', 'Molineux', 'The City Ground', 'Nan'],\n",
       "      dtype=object)"
      ]
     },
     "execution_count": 6,
     "metadata": {},
     "output_type": "execute_result"
    }
   ],
   "source": [
    "df['stadium'].unique()"
   ]
  },
  {
   "cell_type": "code",
   "execution_count": 7,
   "id": "5174d7bc",
   "metadata": {},
   "outputs": [
    {
     "data": {
      "text/plain": [
       "21"
      ]
     },
     "execution_count": 7,
     "metadata": {},
     "output_type": "execute_result"
    }
   ],
   "source": [
    "len(df['stadium'].unique())"
   ]
  },
  {
   "cell_type": "code",
   "execution_count": 8,
   "id": "e9fe6c7c",
   "metadata": {},
   "outputs": [
    {
     "data": {
      "text/plain": [
       "array(['4:30pm', '8:00pm', '1:30pm', '2:00pm', '4:00pm', '12:30p',\n",
       "       '3:00pm', '5:30pm', '7:30pm', '7:00pm', '7:45pm', '8:15pm',\n",
       "       '12:00p', '4:15pm', '2:15pm'], dtype=object)"
      ]
     },
     "execution_count": 8,
     "metadata": {},
     "output_type": "execute_result"
    }
   ],
   "source": [
    "df['clock'].unique()"
   ]
  },
  {
   "cell_type": "code",
   "execution_count": 9,
   "id": "c087dae5",
   "metadata": {},
   "outputs": [
    {
     "data": {
      "text/plain": [
       "15"
      ]
     },
     "execution_count": 9,
     "metadata": {},
     "output_type": "execute_result"
    }
   ],
   "source": [
    "len(df['clock'].unique())"
   ]
  },
  {
   "cell_type": "code",
   "execution_count": 10,
   "id": "cd87e99f",
   "metadata": {},
   "outputs": [
    {
     "data": {
      "text/plain": [
       "Home Team\n",
       "Arsenal                                 [Emirates Stadium]\n",
       "Aston Villa                                   [Villa Park]\n",
       "Bournemouth                             [Vitality Stadium]\n",
       "Brentford                   [Gtech Community Stadium, Nan]\n",
       "Brighton and Hove Albion                    [Amex Stadium]\n",
       "Chelsea                                  [Stamford Bridge]\n",
       "Crystal Palace                             [Selhurst Park]\n",
       "Everton                               [Goodison Park, Nan]\n",
       "Fulham                                    [Craven Cottage]\n",
       "Leeds United                                 [Elland Road]\n",
       "Leicester City                    [The King Power Stadium]\n",
       "Liverpool                                   [Anfield, Nan]\n",
       "Manchester City                           [Etihad Stadium]\n",
       "Manchester United                      [Old Trafford, Nan]\n",
       "Newcastle United               [St James' Park, Newcastle]\n",
       "Nottingham Forest                        [The City Ground]\n",
       "Southampton                      [St. Mary's Stadium, Nan]\n",
       "Tottenham Hotspur              [Tottenham Hotspur Stadium]\n",
       "West Ham United                           [London Stadium]\n",
       "Wolverhampton Wanderers                         [Molineux]\n",
       "Name: stadium, dtype: object"
      ]
     },
     "execution_count": 10,
     "metadata": {},
     "output_type": "execute_result"
    }
   ],
   "source": [
    "df.groupby('Home Team')['stadium'].unique()"
   ]
  },
  {
   "cell_type": "code",
   "execution_count": 11,
   "id": "e0ca8601",
   "metadata": {},
   "outputs": [
    {
     "name": "stdout",
     "output_type": "stream",
     "text": [
      "Maximum attendance in any game was: 75546.0\n"
     ]
    }
   ],
   "source": [
    "# # df['attendance'] = pd.to_numeric(df['attendance'].str.replace(',', ''), errors='coerce')\n",
    "# df['attendance'] = df['attendance'].replace(0,1)\n",
    "# max_attendance = df['attendance'].max()\n",
    "# print(f\"Maximum attenance in any game was: {max_attendance}\")\n",
    "# df.groupby(['stadium', 'Home Team', 'Away Team'])['attendance'].mean()\n",
    "\n",
    "df['attendance'] = df['attendance'].str.replace(',', '').replace(0, 1)\n",
    "df['attendance'] = pd.to_numeric(df['attendance'], errors='coerce')\n",
    "max_attendance = df['attendance'].max()\n",
    "print(f\"Maximum attendance in any game was: {max_attendance}\")"
   ]
  },
  {
   "cell_type": "code",
   "execution_count": 12,
   "id": "6a89a1e9",
   "metadata": {},
   "outputs": [
    {
     "name": "stdout",
     "output_type": "stream",
     "text": [
      "                   Home Team  Average Home Possession  Average Away Possession\n",
      "0                    Arsenal                62.378947                57.094737\n",
      "1                Aston Villa                49.984211                48.847368\n",
      "2                Bournemouth                40.905263                39.331579\n",
      "3                  Brentford                43.647368                43.268421\n",
      "4   Brighton and Hove Albion                60.210526                60.684211\n",
      "5                    Chelsea                59.257895                58.852632\n",
      "6             Crystal Palace                46.921053                45.473684\n",
      "7                    Everton                43.757895                41.410526\n",
      "8                     Fulham                50.736842                46.442105\n",
      "9               Leeds United                47.757895                46.252632\n",
      "10            Leicester City                48.057895                47.363158\n",
      "11                 Liverpool                60.636842                61.336842\n",
      "12           Manchester City                65.473684                64.615789\n",
      "13         Manchester United                52.842105                54.763158\n",
      "14          Newcastle United                53.926316                50.852632\n",
      "15         Nottingham Forest                36.468421                37.978947\n",
      "16               Southampton                44.521053                44.363158\n",
      "17         Tottenham Hotspur                50.973684                48.921053\n",
      "18           West Ham United                42.084211                41.384211\n",
      "19   Wolverhampton Wanderers                48.410526                51.810526\n"
     ]
    }
   ],
   "source": [
    "grouped_home = df.groupby('Home Team')\n",
    "grouped_away = df.groupby('Away Team')\n",
    "\n",
    "home_possession_avg = grouped_home['home_possessions'].mean()\n",
    "away_possession_avg = grouped_away['away_possessions'].mean()\n",
    "\n",
    "possession_avg_combined = pd.DataFrame({\n",
    "    'Home Team': home_possession_avg.index,\n",
    "    'Average Home Possession': home_possession_avg.values,\n",
    "    'Average Away Possession': away_possession_avg.values\n",
    "})\n",
    "\n",
    "print(possession_avg_combined)"
   ]
  },
  {
   "cell_type": "code",
   "execution_count": 13,
   "id": "e056ad28",
   "metadata": {},
   "outputs": [
    {
     "data": {
      "image/png": "[encoded data removed]",
      "text/plain": [
       "<Figure size 864x432 with 1 Axes>"
      ]
     },
     "metadata": {
      "needs_background": "light"
     },
     "output_type": "display_data"
    }
   ],
   "source": [
    "plt.figure(figsize=(12, 6))\n",
    "plt.bar(possession_avg_combined['Home Team'], possession_avg_combined['Average Home Possession'], label='Average Home Possession', color='lightblue')\n",
    "plt.bar(possession_avg_combined['Home Team'], possession_avg_combined['Average Away Possession'], label='Average Away Possession', color='Pink')\n",
    "plt.xticks(rotation=90)\n",
    "plt.xlabel('Team')\n",
    "plt.ylabel('Average Possession')\n",
    "plt.title('Average Possession for Each Team (Home and Away)')\n",
    "plt.legend()\n",
    "plt.tight_layout()\n",
    "plt.show()"
   ]
  },
  {
   "cell_type": "code",
   "execution_count": 14,
   "id": "df935440",
   "metadata": {},
   "outputs": [
    {
     "name": "stdout",
     "output_type": "stream",
     "text": [
      "                        Team  Goals Home  Goals Away\n",
      "0                    Arsenal          53          35\n",
      "1                Aston Villa          33          18\n",
      "2                Bournemouth          20          17\n",
      "3                  Brentford          35          23\n",
      "4   Brighton and Hove Albion          37          35\n",
      "5                    Chelsea          20          18\n",
      "6             Crystal Palace          21          19\n",
      "7                    Everton          16          18\n",
      "8                     Fulham          31          24\n",
      "9               Leeds United          26          22\n",
      "10            Leicester City          23          28\n",
      "11                 Liverpool          46          29\n",
      "12           Manchester City          60          34\n",
      "13         Manchester United          36          22\n",
      "14          Newcastle United          36          32\n",
      "15         Nottingham Forest          27          11\n",
      "16               Southampton          19          17\n",
      "17         Tottenham Hotspur          37          33\n",
      "18           West Ham United          26          16\n",
      "19   Wolverhampton Wanderers          19          12\n"
     ]
    }
   ],
   "source": [
    "goals_home = df.groupby('Home Team')['Goals Home'].sum()\n",
    "goals_away = df.groupby('Away Team')['Away Goals'].sum()\n",
    "goals_combined = pd.DataFrame({\n",
    "    'Team': goals_home.index,\n",
    "    'Goals Home': goals_home.values,\n",
    "    'Goals Away': goals_away.values\n",
    "})\n",
    "print(goals_combined)"
   ]
  },
  {
   "cell_type": "code",
   "execution_count": 15,
   "id": "bd09a13e",
   "metadata": {},
   "outputs": [
    {
     "data": {
      "image/png": "[encoded data removed]",
      "text/plain": [
       "<Figure size 864x432 with 1 Axes>"
      ]
     },
     "metadata": {
      "needs_background": "light"
     },
     "output_type": "display_data"
    }
   ],
   "source": [
    "plt.figure(figsize=(12, 6))\n",
    "plt.bar(goals_combined['Team'], goals_combined['Goals Home'], label='Goals Home', color='lightblue')\n",
    "plt.bar(goals_combined['Team'], goals_combined['Goals Away'], label='Goals Away', color='Pink')\n",
    "plt.xticks( rotation=90)\n",
    "plt.xlabel('Team')\n",
    "plt.ylabel('Goals Scored')\n",
    "plt.title('Goals Scored for Each Team (Home and Away)')\n",
    "plt.legend()\n",
    "plt.tight_layout()\n",
    "plt.show()"
   ]
  },
  {
   "cell_type": "code",
   "execution_count": 16,
   "id": "51963388",
   "metadata": {},
   "outputs": [
    {
     "data": {
      "text/plain": [
       "Index(['date', 'clock', 'stadium', 'attendance', 'Home Team', 'Goals Home',\n",
       "       'Away Team', 'Away Goals', 'home_possessions', 'away_possessions',\n",
       "       'home_shots', 'away_shots', 'home_on', 'away_on', 'home_off',\n",
       "       'away_off', 'home_blocked', 'away_blocked', 'home_pass', 'away_pass',\n",
       "       'home_chances', 'away_chances', 'home_corners', 'away_corners',\n",
       "       'home_offside', 'away_offside', 'home_tackles', 'away_tackles',\n",
       "       'home_duels', 'away_duels', 'home_saves', 'away_saves', 'home_fouls',\n",
       "       'away_fouls', 'home_yellow', 'away_yellow', 'home_red', 'away_red',\n",
       "       'links'],\n",
       "      dtype='object')"
      ]
     },
     "execution_count": 16,
     "metadata": {},
     "output_type": "execute_result"
    }
   ],
   "source": [
    "df.columns"
   ]
  },
  {
   "cell_type": "markdown",
   "id": "4421072b",
   "metadata": {},
   "source": [
    "\n",
    "grouped_data = df.groupby(['Home Team', 'Away Team'])['Goals Home', 'Goals Away', 'home_chances', 'away_chances'].sum().reset_index()\n",
    "\n",
    "#Rename the columns for clarity (optional step)\n",
    "grouped_data.columns = ['Home Team', 'Away Team', 'Goals Home', 'Away Goals', 'Chances Home', 'Chances Away']\n",
    "\n",
    "#Print the grouped data\n",
    "print(grouped_data)"
   ]
  },
  {
   "cell_type": "code",
   "execution_count": 17,
   "id": "da07d18a",
   "metadata": {},
   "outputs": [
    {
     "name": "stderr",
     "output_type": "stream",
     "text": [
      "C:\\Users\\Haroon Traders\\AppData\\Local\\Temp\\ipykernel_9800\\2967092195.py:1: FutureWarning: Indexing with multiple keys (implicitly converted to a tuple of keys) will be deprecated, use a list instead.\n",
      "  df.groupby(['Home Team'])['home_chances','Goals Home','away_chances','Away Goals'].sum()\n"
     ]
    },
    {
     "data": {
      "text/html": [
       "<div>\n",
       "<style scoped>\n",
       "    .dataframe tbody tr th:only-of-type {\n",
       "        vertical-align: middle;\n",
       "    }\n",
       "\n",
       "    .dataframe tbody tr th {\n",
       "        vertical-align: top;\n",
       "    }\n",
       "\n",
       "    .dataframe thead th {\n",
       "        text-align: right;\n",
       "    }\n",
       "</style>\n",
       "<table border=\"1\" class=\"dataframe\">\n",
       "  <thead>\n",
       "    <tr style=\"text-align: right;\">\n",
       "      <th></th>\n",
       "      <th>home_chances</th>\n",
       "      <th>Goals Home</th>\n",
       "      <th>away_chances</th>\n",
       "      <th>Away Goals</th>\n",
       "    </tr>\n",
       "    <tr>\n",
       "      <th>Home Team</th>\n",
       "      <th></th>\n",
       "      <th></th>\n",
       "      <th></th>\n",
       "      <th></th>\n",
       "    </tr>\n",
       "  </thead>\n",
       "  <tbody>\n",
       "    <tr>\n",
       "      <th>Arsenal</th>\n",
       "      <td>39</td>\n",
       "      <td>53</td>\n",
       "      <td>22</td>\n",
       "      <td>25</td>\n",
       "    </tr>\n",
       "    <tr>\n",
       "      <th>Aston Villa</th>\n",
       "      <td>33</td>\n",
       "      <td>33</td>\n",
       "      <td>29</td>\n",
       "      <td>21</td>\n",
       "    </tr>\n",
       "    <tr>\n",
       "      <th>Bournemouth</th>\n",
       "      <td>21</td>\n",
       "      <td>20</td>\n",
       "      <td>26</td>\n",
       "      <td>28</td>\n",
       "    </tr>\n",
       "    <tr>\n",
       "      <th>Brentford</th>\n",
       "      <td>33</td>\n",
       "      <td>35</td>\n",
       "      <td>22</td>\n",
       "      <td>18</td>\n",
       "    </tr>\n",
       "    <tr>\n",
       "      <th>Brighton and Hove Albion</th>\n",
       "      <td>39</td>\n",
       "      <td>37</td>\n",
       "      <td>22</td>\n",
       "      <td>21</td>\n",
       "    </tr>\n",
       "    <tr>\n",
       "      <th>Chelsea</th>\n",
       "      <td>31</td>\n",
       "      <td>20</td>\n",
       "      <td>27</td>\n",
       "      <td>19</td>\n",
       "    </tr>\n",
       "    <tr>\n",
       "      <th>Crystal Palace</th>\n",
       "      <td>19</td>\n",
       "      <td>21</td>\n",
       "      <td>31</td>\n",
       "      <td>23</td>\n",
       "    </tr>\n",
       "    <tr>\n",
       "      <th>Everton</th>\n",
       "      <td>21</td>\n",
       "      <td>16</td>\n",
       "      <td>23</td>\n",
       "      <td>27</td>\n",
       "    </tr>\n",
       "    <tr>\n",
       "      <th>Fulham</th>\n",
       "      <td>21</td>\n",
       "      <td>31</td>\n",
       "      <td>37</td>\n",
       "      <td>29</td>\n",
       "    </tr>\n",
       "    <tr>\n",
       "      <th>Leeds United</th>\n",
       "      <td>19</td>\n",
       "      <td>26</td>\n",
       "      <td>40</td>\n",
       "      <td>37</td>\n",
       "    </tr>\n",
       "    <tr>\n",
       "      <th>Leicester City</th>\n",
       "      <td>24</td>\n",
       "      <td>23</td>\n",
       "      <td>27</td>\n",
       "      <td>27</td>\n",
       "    </tr>\n",
       "    <tr>\n",
       "      <th>Liverpool</th>\n",
       "      <td>58</td>\n",
       "      <td>46</td>\n",
       "      <td>40</td>\n",
       "      <td>17</td>\n",
       "    </tr>\n",
       "    <tr>\n",
       "      <th>Manchester City</th>\n",
       "      <td>60</td>\n",
       "      <td>60</td>\n",
       "      <td>15</td>\n",
       "      <td>17</td>\n",
       "    </tr>\n",
       "    <tr>\n",
       "      <th>Manchester United</th>\n",
       "      <td>55</td>\n",
       "      <td>36</td>\n",
       "      <td>21</td>\n",
       "      <td>10</td>\n",
       "    </tr>\n",
       "    <tr>\n",
       "      <th>Newcastle United</th>\n",
       "      <td>54</td>\n",
       "      <td>36</td>\n",
       "      <td>18</td>\n",
       "      <td>14</td>\n",
       "    </tr>\n",
       "    <tr>\n",
       "      <th>Nottingham Forest</th>\n",
       "      <td>18</td>\n",
       "      <td>27</td>\n",
       "      <td>30</td>\n",
       "      <td>24</td>\n",
       "    </tr>\n",
       "    <tr>\n",
       "      <th>Southampton</th>\n",
       "      <td>20</td>\n",
       "      <td>19</td>\n",
       "      <td>37</td>\n",
       "      <td>37</td>\n",
       "    </tr>\n",
       "    <tr>\n",
       "      <th>Tottenham Hotspur</th>\n",
       "      <td>36</td>\n",
       "      <td>37</td>\n",
       "      <td>20</td>\n",
       "      <td>25</td>\n",
       "    </tr>\n",
       "    <tr>\n",
       "      <th>West Ham United</th>\n",
       "      <td>26</td>\n",
       "      <td>26</td>\n",
       "      <td>24</td>\n",
       "      <td>24</td>\n",
       "    </tr>\n",
       "    <tr>\n",
       "      <th>Wolverhampton Wanderers</th>\n",
       "      <td>18</td>\n",
       "      <td>19</td>\n",
       "      <td>19</td>\n",
       "      <td>20</td>\n",
       "    </tr>\n",
       "  </tbody>\n",
       "</table>\n",
       "</div>"
      ],
      "text/plain": [
       "                          home_chances  Goals Home  away_chances  Away Goals\n",
       "Home Team                                                                   \n",
       "Arsenal                             39          53            22          25\n",
       "Aston Villa                         33          33            29          21\n",
       "Bournemouth                         21          20            26          28\n",
       "Brentford                           33          35            22          18\n",
       "Brighton and Hove Albion            39          37            22          21\n",
       "Chelsea                             31          20            27          19\n",
       "Crystal Palace                      19          21            31          23\n",
       "Everton                             21          16            23          27\n",
       "Fulham                              21          31            37          29\n",
       "Leeds United                        19          26            40          37\n",
       "Leicester City                      24          23            27          27\n",
       "Liverpool                           58          46            40          17\n",
       "Manchester City                     60          60            15          17\n",
       "Manchester United                   55          36            21          10\n",
       "Newcastle United                    54          36            18          14\n",
       "Nottingham Forest                   18          27            30          24\n",
       "Southampton                         20          19            37          37\n",
       "Tottenham Hotspur                   36          37            20          25\n",
       "West Ham United                     26          26            24          24\n",
       "Wolverhampton Wanderers             18          19            19          20"
      ]
     },
     "execution_count": 17,
     "metadata": {},
     "output_type": "execute_result"
    }
   ],
   "source": [
    "df.groupby(['Home Team'])['home_chances','Goals Home','away_chances','Away Goals'].sum()"
   ]
  },
  {
   "cell_type": "code",
   "execution_count": 18,
   "id": "469d13ef",
   "metadata": {},
   "outputs": [
    {
     "name": "stdout",
     "output_type": "stream",
     "text": [
      "                          Goals Home  Away Goals  Total Goals\n",
      "Home Team                                                    \n",
      "Arsenal                           53          25           78\n",
      "Aston Villa                       33          21           54\n",
      "Bournemouth                       20          28           48\n",
      "Brentford                         35          18           53\n",
      "Brighton and Hove Albion          37          21           58\n",
      "Chelsea                           20          19           39\n",
      "Crystal Palace                    21          23           44\n",
      "Everton                           16          27           43\n",
      "Fulham                            31          29           60\n",
      "Leeds United                      26          37           63\n",
      "Leicester City                    23          27           50\n",
      "Liverpool                         46          17           63\n",
      "Manchester City                   60          17           77\n",
      "Manchester United                 36          10           46\n",
      "Newcastle United                  36          14           50\n",
      "Nottingham Forest                 27          24           51\n",
      "Southampton                       19          37           56\n",
      "Tottenham Hotspur                 37          25           62\n",
      "West Ham United                   26          24           50\n",
      "Wolverhampton Wanderers           19          20           39\n"
     ]
    }
   ],
   "source": [
    "aggregated_df = df.groupby('Home Team').agg({\n",
    "    'Goals Home': 'sum',\n",
    "    'Away Goals': 'sum'\n",
    "})\n",
    "\n",
    "aggregated_df['Total Goals'] = aggregated_df['Goals Home'] + aggregated_df['Away Goals']\n",
    "print(aggregated_df)"
   ]
  },
  {
   "cell_type": "code",
   "execution_count": 19,
   "id": "0f0a2aab",
   "metadata": {},
   "outputs": [
    {
     "name": "stdout",
     "output_type": "stream",
     "text": [
      "                          Away Draws  Away Losses  Away Wins  Home Draws  \\\n",
      "Home Team                                                                  \n",
      "Arsenal                            3            4         12           3   \n",
      "Aston Villa                        5            8          6           2   \n",
      "Bournemouth                        2           12          5           4   \n",
      "Brentford                          7            7          5           7   \n",
      "Brighton and Hove Albion           4            7          8           4   \n",
      "Chelsea                            4           10          5           7   \n",
      "Crystal Palace                     5           10          4           7   \n",
      "Everton                            9            8          2           3   \n",
      "Fulham                             2           10          7           5   \n",
      "Leeds United                       3           14          2           7   \n",
      "Leicester City                     3           12          4           4   \n",
      "Liverpool                          5            8          6           5   \n",
      "Manchester City                    4            4         11           1   \n",
      "Manchester United                  3            8          8           3   \n",
      "Newcastle United                   8            3          8           6   \n",
      "Nottingham Forest                  5           13          1           6   \n",
      "Southampton                        2           13          4           5   \n",
      "Tottenham Hotspur                  5            8          6           1   \n",
      "West Ham United                    3           13          3           4   \n",
      "Wolverhampton Wanderers            5           12          2           3   \n",
      "\n",
      "                          Home Losses  Home Wins  \n",
      "Home Team                                         \n",
      "Arsenal                             2         14  \n",
      "Aston Villa                         5         12  \n",
      "Bournemouth                         9          6  \n",
      "Brentford                           2         10  \n",
      "Brighton and Hove Albion            5         10  \n",
      "Chelsea                             6          6  \n",
      "Crystal Palace                      5          7  \n",
      "Everton                            10          6  \n",
      "Fulham                              6          8  \n",
      "Leeds United                        7          5  \n",
      "Leicester City                     10          5  \n",
      "Liverpool                           1         13  \n",
      "Manchester City                     1         17  \n",
      "Manchester United                   1         15  \n",
      "Newcastle United                    2         11  \n",
      "Nottingham Forest                   5          8  \n",
      "Southampton                        12          2  \n",
      "Tottenham Hotspur                   6         12  \n",
      "West Ham United                     7          8  \n",
      "Wolverhampton Wanderers             7          9  \n"
     ]
    },
    {
     "name": "stderr",
     "output_type": "stream",
     "text": [
      "C:\\Users\\Haroon Traders\\AppData\\Local\\Temp\\ipykernel_9800\\1998173146.py:1: FutureWarning: Indexing with multiple keys (implicitly converted to a tuple of keys) will be deprecated, use a list instead.\n",
      "  home_results = df.groupby('Home Team')['Goals Home', 'Away Goals'].apply(lambda x: ((x['Goals Home'] > x['Away Goals']).sum(), (x['Goals Home'] < x['Away Goals']).sum(), (x['Goals Home'] == x['Away Goals']).sum())).apply(pd.Series)\n",
      "C:\\Users\\Haroon Traders\\AppData\\Local\\Temp\\ipykernel_9800\\1998173146.py:2: FutureWarning: Indexing with multiple keys (implicitly converted to a tuple of keys) will be deprecated, use a list instead.\n",
      "  away_results = df.groupby('Away Team')['Goals Home', 'Away Goals'].apply(lambda x: ((x['Goals Home'] < x['Away Goals']).sum(), (x['Goals Home'] > x['Away Goals']).sum(), (x['Goals Home'] == x['Away Goals']).sum())).apply(pd.Series)\n"
     ]
    }
   ],
   "source": [
    "home_results = df.groupby('Home Team')['Goals Home', 'Away Goals'].apply(lambda x: ((x['Goals Home'] > x['Away Goals']).sum(), (x['Goals Home'] < x['Away Goals']).sum(), (x['Goals Home'] == x['Away Goals']).sum())).apply(pd.Series)\n",
    "away_results = df.groupby('Away Team')['Goals Home', 'Away Goals'].apply(lambda x: ((x['Goals Home'] < x['Away Goals']).sum(), (x['Goals Home'] > x['Away Goals']).sum(), (x['Goals Home'] == x['Away Goals']).sum())).apply(pd.Series)\n",
    "home_results.columns = ['Home Wins', 'Home Losses', 'Home Draws']\n",
    "away_results.columns = ['Away Wins', 'Away Losses', 'Away Draws']\n",
    "team_results = home_results.add(away_results, fill_value=0)\n",
    "team_results = team_results.astype(int)\n",
    "print(team_results)"
   ]
  },
  {
   "cell_type": "code",
   "execution_count": 20,
   "id": "997f2610",
   "metadata": {},
   "outputs": [
    {
     "data": {
      "text/plain": [
       "<Figure size 1440x1440 with 0 Axes>"
      ]
     },
     "metadata": {},
     "output_type": "display_data"
    },
    {
     "data": {
      "image/png": "[encoded data removed]",
      "text/plain": [
       "<Figure size 432x288 with 1 Axes>"
      ]
     },
     "metadata": {
      "needs_background": "light"
     },
     "output_type": "display_data"
    },
    {
     "data": {
      "text/plain": [
       "<Figure size 3240x3240 with 0 Axes>"
      ]
     },
     "metadata": {},
     "output_type": "display_data"
    },
    {
     "data": {
      "image/png": "[encoded data removed]",
      "text/plain": [
       "<Figure size 432x288 with 1 Axes>"
      ]
     },
     "metadata": {
      "needs_background": "light"
     },
     "output_type": "display_data"
    }
   ],
   "source": [
    "# Bar chart for home team results\n",
    "plt.figure(figsize=(20, 20))\n",
    "team_results[['Home Wins', 'Home Losses', 'Home Draws']].plot(kind='bar', stacked=True)\n",
    "plt.title('Home Team Results')\n",
    "plt.xlabel('Teams')\n",
    "plt.ylabel('Draw | Loss | Win')\n",
    "plt.legend(['Wins', 'Losses', 'Draws'], bbox_to_anchor=(1.02, 1), loc='upper left')\n",
    "plt.xticks(rotation=45, ha='right')\n",
    "plt.tight_layout()\n",
    "plt.show()\n",
    "\n",
    "\n",
    "# Bar chart for away team results\n",
    "plt.figure(figsize=(45, 45))\n",
    "team_results[['Away Wins', 'Away Losses', 'Away Draws']].plot(kind='bar', stacked=True)\n",
    "plt.title('Away Team Results')\n",
    "plt.xlabel('Teams')\n",
    "plt.ylabel('Draw | Loss | Win')\n",
    "plt.legend(['Wins', 'Losses', 'Draws'], bbox_to_anchor=(1.02, 1), loc='upper left')\n",
    "plt.xticks(rotation=45, ha='right')\n",
    "plt.tight_layout()\n",
    "plt.show()"
   ]
  },
  {
   "cell_type": "code",
   "execution_count": 21,
   "id": "608c5111",
   "metadata": {},
   "outputs": [
    {
     "name": "stdout",
     "output_type": "stream",
     "text": [
      "                          Goals Scored  Goals Conceded  Goal Difference\n",
      "Home Team                                                              \n",
      "Arsenal                             88              43               45\n",
      "Aston Villa                         51              46                5\n",
      "Bournemouth                         37              71              -34\n",
      "Brentford                           58              46               12\n",
      "Brighton and Hove Albion            72              53               19\n",
      "Chelsea                             38              47               -9\n",
      "Crystal Palace                      40              49               -9\n",
      "Everton                             34              57              -23\n",
      "Fulham                              55              53                2\n",
      "Leeds United                        48              78              -30\n",
      "Leicester City                      51              68              -17\n",
      "Liverpool                           75              47               28\n",
      "Manchester City                     94              33               61\n",
      "Manchester United                   58              43               15\n",
      "Newcastle United                    68              33               35\n",
      "Nottingham Forest                   38              68              -30\n",
      "Southampton                         36              73              -37\n",
      "Tottenham Hotspur                   70              63                7\n",
      "West Ham United                     42              55              -13\n",
      "Wolverhampton Wanderers             31              58              -27\n"
     ]
    }
   ],
   "source": [
    "# total number of goals scored by each team (both as home and away)\n",
    "goals_scored_home = df.groupby('Home Team')['Goals Home'].sum()\n",
    "goals_scored_away = df.groupby('Away Team')['Away Goals'].sum()\n",
    "\n",
    "# total number of goals conceded by each team (both as home and away)\n",
    "goals_conceded_home = df.groupby('Home Team')['Away Goals'].sum()\n",
    "goals_conceded_away = df.groupby('Away Team')['Goals Home'].sum()\n",
    "\n",
    "# goal difference (GD) for each team\n",
    "goal_difference = goals_scored_home.add(goals_scored_away) - goals_conceded_home.add(goals_conceded_away)\n",
    "\n",
    "team_stats = pd.DataFrame({\n",
    "    'Goals Scored': goals_scored_home.add(goals_scored_away),\n",
    "    'Goals Conceded': goals_conceded_home.add(goals_conceded_away),\n",
    "    'Goal Difference': goal_difference\n",
    "})\n",
    "print(team_stats)"
   ]
  },
  {
   "cell_type": "markdown",
   "id": "18e4f96f",
   "metadata": {},
   "source": [
    "# Pie Chart For Goal Difference\n",
    "\n",
    "teams = team_stats.index\n",
    "team_stats['Goal Difference'] = team_stats['Goal Difference'].abs()\n",
    "\n",
    "Goal_difference = team_stats['Goal Difference']\n",
    "\n",
    "plt.figure(figsize=(8, 8))\n",
    "plt.pie(Goal_difference, labels=teams, autopct='%1.1f%%', startangle=140, colors=plt.cm.Paired.colors)\n",
    "plt.title('Goal Difference for Each Team')\n",
    "plt.show()"
   ]
  },
  {
   "cell_type": "code",
   "execution_count": 22,
   "id": "66e34450",
   "metadata": {},
   "outputs": [
    {
     "data": {
      "image/png": "[encoded data removed]",
      "text/plain": [
       "<Figure size 1008x432 with 1 Axes>"
      ]
     },
     "metadata": {
      "needs_background": "light"
     },
     "output_type": "display_data"
    }
   ],
   "source": [
    "plt.figure(figsize=(14, 6))\n",
    "bar_width = 0.3\n",
    "\n",
    "teams = team_stats.index\n",
    "team_stats['Goal Difference'] = team_stats['Goal Difference'].abs()\n",
    "\n",
    "Goal_difference = team_stats['Goal Difference']\n",
    "\n",
    "index = np.arange(len(teams))\n",
    "\n",
    "plt.bar(index, team_stats['Goals Scored'], width=bar_width, label='Goals Scored', color='lightblue')\n",
    "plt.bar(index + bar_width, team_stats['Goals Conceded'], width=bar_width, label='Goals Conceded', color='Pink')\n",
    "\n",
    "plt.xticks(index + bar_width, teams, rotation=45)\n",
    "plt.xlabel('Teams')\n",
    "plt.ylabel('Goals')\n",
    "plt.title('Goals Scored and Goals Conceded for Each Team')\n",
    "plt.legend()\n",
    "plt.tight_layout()\n",
    "plt.show()"
   ]
  },
  {
   "cell_type": "code",
   "execution_count": 23,
   "id": "99e5a918",
   "metadata": {},
   "outputs": [
    {
     "data": {
      "image/png": "[encoded data removed]",
      "text/plain": [
       "<Figure size 720x432 with 1 Axes>"
      ]
     },
     "metadata": {
      "needs_background": "light"
     },
     "output_type": "display_data"
    }
   ],
   "source": [
    "plt.figure(figsize=(10, 6))\n",
    "plt.barh(teams, Goal_difference, color=plt.cm.Paired.colors)\n",
    "plt.xlabel('Goal Difference')\n",
    "plt.ylabel('Teams')\n",
    "plt.title('Goal Difference for Each Team')\n",
    "plt.show()"
   ]
  },
  {
   "cell_type": "code",
   "execution_count": 24,
   "id": "e1eaa9e1",
   "metadata": {},
   "outputs": [],
   "source": [
    "# home_results = df.groupby('Home Team')['Goals Home', 'Away Goals'].apply(lambda x: ((x['Goals Home'] > x['Away Goals']).sum(), (x['Goals Home'] < x['Away Goals']).sum(), (x['Goals Home'] == x['Away Goals']).sum())).apply(pd.Series)\n",
    "# away_results = df.groupby('Away Team')['Goals Home', 'Away Goals'].apply(lambda x: ((x['Goals Home'] < x['Away Goals']).sum(), (x['Goals Home'] > x['Away Goals']).sum(), (x['Goals Home'] == x['Away Goals']).sum())).apply(pd.Series)\n",
    "# home_results.columns = ['Home Wins', 'Home Losses', 'Home Draws']\n",
    "# away_results.columns = ['Away Wins', 'Away Losses', 'Away Draws']\n",
    "# print(team_results)"
   ]
  },
  {
   "cell_type": "code",
   "execution_count": 25,
   "id": "a091266b",
   "metadata": {},
   "outputs": [
    {
     "name": "stdout",
     "output_type": "stream",
     "text": [
      "                          Away Draws  Away Losses  Away Wins  Home Draws  \\\n",
      "Home Team                                                                  \n",
      "Arsenal                            3            4         12           3   \n",
      "Aston Villa                        5            8          6           2   \n",
      "Bournemouth                        2           12          5           4   \n",
      "Brentford                          7            7          5           7   \n",
      "Brighton and Hove Albion           4            7          8           4   \n",
      "Chelsea                            4           10          5           7   \n",
      "Crystal Palace                     5           10          4           7   \n",
      "Everton                            9            8          2           3   \n",
      "Fulham                             2           10          7           5   \n",
      "Leeds United                       3           14          2           7   \n",
      "Leicester City                     3           12          4           4   \n",
      "Liverpool                          5            8          6           5   \n",
      "Manchester City                    4            4         11           1   \n",
      "Manchester United                  3            8          8           3   \n",
      "Newcastle United                   8            3          8           6   \n",
      "Nottingham Forest                  5           13          1           6   \n",
      "Southampton                        2           13          4           5   \n",
      "Tottenham Hotspur                  5            8          6           1   \n",
      "West Ham United                    3           13          3           4   \n",
      "Wolverhampton Wanderers            5           12          2           3   \n",
      "\n",
      "                          Home Losses  Home Wins  Points  \n",
      "Home Team                                                 \n",
      "Arsenal                             2         14      84  \n",
      "Aston Villa                         5         12      61  \n",
      "Bournemouth                         9          6      39  \n",
      "Brentford                           2         10      59  \n",
      "Brighton and Hove Albion            5         10      62  \n",
      "Chelsea                             6          6      44  \n",
      "Crystal Palace                      5          7      45  \n",
      "Everton                            10          6      36  \n",
      "Fulham                              6          8      52  \n",
      "Leeds United                        7          5      31  \n",
      "Leicester City                     10          5      34  \n",
      "Liverpool                           1         13      67  \n",
      "Manchester City                     1         17      89  \n",
      "Manchester United                   1         15      75  \n",
      "Newcastle United                    2         11      71  \n",
      "Nottingham Forest                   5          8      38  \n",
      "Southampton                        12          2      25  \n",
      "Tottenham Hotspur                   6         12      60  \n",
      "West Ham United                     7          8      40  \n",
      "Wolverhampton Wanderers             7          9      41  \n"
     ]
    }
   ],
   "source": [
    "team_results['Points'] = 3 * (team_results['Home Wins'] + team_results['Away Wins']) + team_results['Home Draws'] + team_results['Away Draws']\n",
    "print(team_results)"
   ]
  },
  {
   "cell_type": "code",
   "execution_count": 26,
   "id": "91c9915f",
   "metadata": {},
   "outputs": [
    {
     "name": "stdout",
     "output_type": "stream",
     "text": [
      "                          Away Draws  Away Losses  Away Wins  Home Draws  \\\n",
      "Home Team                                                                  \n",
      "Manchester City                    4            4         11           1   \n",
      "Arsenal                            3            4         12           3   \n",
      "Manchester United                  3            8          8           3   \n",
      "Newcastle United                   8            3          8           6   \n",
      "Liverpool                          5            8          6           5   \n",
      "Brighton and Hove Albion           4            7          8           4   \n",
      "Aston Villa                        5            8          6           2   \n",
      "Tottenham Hotspur                  5            8          6           1   \n",
      "Brentford                          7            7          5           7   \n",
      "Fulham                             2           10          7           5   \n",
      "Crystal Palace                     5           10          4           7   \n",
      "Chelsea                            4           10          5           7   \n",
      "Wolverhampton Wanderers            5           12          2           3   \n",
      "West Ham United                    3           13          3           4   \n",
      "Bournemouth                        2           12          5           4   \n",
      "Nottingham Forest                  5           13          1           6   \n",
      "Everton                            9            8          2           3   \n",
      "Leicester City                     3           12          4           4   \n",
      "Leeds United                       3           14          2           7   \n",
      "Southampton                        2           13          4           5   \n",
      "\n",
      "                          Home Losses  Home Wins  Points  \n",
      "Home Team                                                 \n",
      "Manchester City                     1         17      89  \n",
      "Arsenal                             2         14      84  \n",
      "Manchester United                   1         15      75  \n",
      "Newcastle United                    2         11      71  \n",
      "Liverpool                           1         13      67  \n",
      "Brighton and Hove Albion            5         10      62  \n",
      "Aston Villa                         5         12      61  \n",
      "Tottenham Hotspur                   6         12      60  \n",
      "Brentford                           2         10      59  \n",
      "Fulham                              6          8      52  \n",
      "Crystal Palace                      5          7      45  \n",
      "Chelsea                             6          6      44  \n",
      "Wolverhampton Wanderers             7          9      41  \n",
      "West Ham United                     7          8      40  \n",
      "Bournemouth                         9          6      39  \n",
      "Nottingham Forest                   5          8      38  \n",
      "Everton                            10          6      36  \n",
      "Leicester City                     10          5      34  \n",
      "Leeds United                        7          5      31  \n",
      "Southampton                        12          2      25  \n"
     ]
    }
   ],
   "source": [
    "sorted_team_results = team_results.sort_values(by='Points', ascending=False)\n",
    "\n",
    "print(sorted_team_results)"
   ]
  },
  {
   "cell_type": "code",
   "execution_count": 27,
   "id": "41bc83ad",
   "metadata": {},
   "outputs": [
    {
     "data": {
      "image/png": "[encoded data removed]",
      "text/plain": [
       "<Figure size 720x432 with 1 Axes>"
      ]
     },
     "metadata": {
      "needs_background": "light"
     },
     "output_type": "display_data"
    }
   ],
   "source": [
    "plt.figure(figsize=(10, 6))\n",
    "plt.barh(sorted_team_results.index, sorted_team_results['Points'], color=plt.cm.Paired.colors)\n",
    "plt.xlabel('Team Points')\n",
    "plt.ylabel('Teams')\n",
    "plt.title('Points for Each Team')\n",
    "plt.show()"
   ]
  },
  {
   "cell_type": "code",
   "execution_count": 28,
   "id": "47e3bfe4",
   "metadata": {},
   "outputs": [],
   "source": [
    "name = df['Home Team'].unique()"
   ]
  },
  {
   "cell_type": "code",
   "execution_count": 29,
   "id": "9c4375a1",
   "metadata": {},
   "outputs": [
    {
     "name": "stdout",
     "output_type": "stream",
     "text": [
      "Goal Conversion Rate of Premier League Teams:\n",
      "Arsenal                     14.97%\n",
      "Aston Villa                 14.60%\n",
      "Bournemouth                 10.10%\n",
      "Brentford                   14.71%\n",
      "Brighton and Hove Albion    10.54%\n",
      "Chelsea                      7.69%\n",
      "Crystal Palace               9.05%\n",
      "Everton                      6.90%\n",
      "Fulham                      12.97%\n",
      "Leeds United                10.32%\n",
      "Leicester City              10.90%\n",
      "Liverpool                   14.02%\n",
      "Manchester City             18.93%\n",
      "Manchester United           10.50%\n",
      "Newcastle United            10.50%\n",
      "Nottingham Forest           13.92%\n",
      "Southampton                  8.33%\n",
      "Tottenham Hotspur           12.80%\n",
      "West Ham United              9.89%\n",
      "Wolverhampton Wanderers      8.96%\n",
      "dtype: object\n"
     ]
    }
   ],
   "source": [
    "goals_scored_home = df.groupby('Home Team')['Goals Home'].sum()\n",
    "goals_scored_away = df.groupby('Away Team')['Away Goals'].sum()\n",
    "\n",
    "shots_home = df.groupby('Home Team')['home_shots'].sum()\n",
    "shots_away = df.groupby('Away Team')['away_shots'].sum()\n",
    "\n",
    "\n",
    "goal_conversion_rate_home = (goals_scored_home / shots_home) * 100\n",
    "goal_conversion_rate_away = (goals_scored_away / shots_away) * 100\n",
    "\n",
    "goal_conversion_rate_combined = goal_conversion_rate_home.combine_first(goal_conversion_rate_away)\n",
    "\n",
    "goal_conversion_rate_formatted = goal_conversion_rate_combined.map(\"{:.2f}%\".format)\n",
    "print(f\"Goal Conversion Rate of Premier League Teams:\")\n",
    "print(goal_conversion_rate_formatted)"
   ]
  },
  {
   "cell_type": "code",
   "execution_count": null,
   "id": "55df9a6a",
   "metadata": {},
   "outputs": [],
   "source": []
  }
 ],
 "metadata": {
  "kernelspec": {
   "display_name": "Python 3 (ipykernel)",
   "language": "python",
   "name": "python3"
  },
  "language_info": {
   "codemirror_mode": {
    "name": "ipython",
    "version": 3
   },
   "file_extension": ".py",
   "mimetype": "text/x-python",
   "name": "python",
   "nbconvert_exporter": "python",
   "pygments_lexer": "ipython3",
   "version": "3.9.12"
  }
 },
 "nbformat": 4,
 "nbformat_minor": 5
}
